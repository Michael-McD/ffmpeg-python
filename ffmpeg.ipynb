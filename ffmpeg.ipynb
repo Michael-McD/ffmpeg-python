{
 "cells": [
  {
   "cell_type": "code",
   "execution_count": null,
   "id": "7cf9a3bf-fd59-40d8-868f-6a5b0d09fe4d",
   "metadata": {},
   "outputs": [],
   "source": [
    "You can check the formats avialble in a Youtube video:"
   ]
  },
  {
   "cell_type": "code",
   "execution_count": 1,
   "id": "f7934ac1-a734-4dfb-b45b-bd9fafe66c49",
   "metadata": {},
   "outputs": [
    {
     "name": "stdout",
     "output_type": "stream",
     "text": [
      "[youtube] H8Mboa5Rx7o: Downloading webpage\n",
      "[info] Available formats for H8Mboa5Rx7o:\n",
      "format code  extension  resolution note\n",
      "249          webm       audio only audio_quality_low   52k , webm_dash container, opus  (48000Hz), 1.72MiB\n",
      "249-drc      webm       audio only audio_quality_low   53k , webm_dash container, opus  (48000Hz), 1.76MiB\n",
      "250          webm       audio only audio_quality_low   69k , webm_dash container, opus  (48000Hz), 2.28MiB\n",
      "250-drc      webm       audio only audio_quality_low   71k , webm_dash container, opus  (48000Hz), 2.33MiB\n",
      "140-drc      m4a        audio only audio_quality_medium  129k , m4a_dash container, mp4a.40.2 (44100Hz), 4.24MiB\n",
      "140          m4a        audio only audio_quality_medium  129k , m4a_dash container, mp4a.40.2 (44100Hz), 4.24MiB\n",
      "251          webm       audio only audio_quality_medium  132k , webm_dash container, opus  (48000Hz), 4.32MiB\n",
      "251-drc      webm       audio only audio_quality_medium  134k , webm_dash container, opus  (48000Hz), 4.42MiB\n",
      "160          mp4        256x144    144p   48k , mp4_dash container, avc1.4d400c, 25fps, video only, 1.59MiB\n",
      "278          webm       256x144    144p   52k , webm_dash container, vp9, 25fps, video only, 1.72MiB\n",
      "242          webm       426x240    240p   73k , webm_dash container, vp9, 25fps, video only, 2.40MiB\n",
      "133          mp4        426x240    240p   93k , mp4_dash container, avc1.4d4015, 25fps, video only, 3.07MiB\n",
      "243          webm       640x360    360p  112k , webm_dash container, vp9, 25fps, video only, 3.70MiB\n",
      "134          mp4        640x360    360p  153k , mp4_dash container, avc1.4d401e, 25fps, video only, 5.02MiB\n",
      "244          webm       854x480    480p  160k , webm_dash container, vp9, 25fps, video only, 5.27MiB\n",
      "135          mp4        854x480    480p  226k , mp4_dash container, avc1.4d401e, 25fps, video only, 7.41MiB\n",
      "247          webm       1280x720   720p  265k , webm_dash container, vp9, 25fps, video only, 8.68MiB\n",
      "136          mp4        1280x720   720p  336k , mp4_dash container, avc1.64001f, 25fps, video only, 11.03MiB\n",
      "248          webm       1920x1080  1080p  367k , webm_dash container, vp9, 25fps, video only, 12.02MiB\n",
      "137          mp4        1920x1080  1080p  552k , mp4_dash container, avc1.640028, 25fps, video only, 18.08MiB\n",
      "18           mp4        640x360    360p  281k , avc1.42001E, 25fps, mp4a.40.2 (44100Hz) (best)\n"
     ]
    }
   ],
   "source": [
    "%%bash\n",
    "youtube-dl --list-formats https://www.youtube.com/watch\\?v\\=H8Mboa5Rx7o"
   ]
  },
  {
   "cell_type": "markdown",
   "id": "0d1a16bd-7cb5-440f-83d4-c4bc62fca81e",
   "metadata": {},
   "source": [
    "Get the video only in 136 mp4 format i.e.  1280x720 "
   ]
  },
  {
   "cell_type": "code",
   "execution_count": 2,
   "id": "04dd512d-91b3-4937-8e26-8b53a72dfac3",
   "metadata": {
    "scrolled": true
   },
   "outputs": [
    {
     "name": "stdout",
     "output_type": "stream",
     "text": [
      "https://rr5---sn-vjoouujvhh-ioqs.googlevideo.com/videoplayback?expire=1719071252&ei=tJ12ZojwFr602roP1p2p2Ag&ip=2400%3A4050%3Aad40%3A7500%3A942b%3A4751%3Ae044%3A9f96&id=o-AKWVzEnL5i-I814RC1rINE6FFwU1chiPl7H38W7xSjRR&itag=136&aitags=133%2C134%2C135%2C136%2C137%2C160%2C242%2C243%2C244%2C247%2C248%2C278%2C394%2C395%2C396%2C397%2C398%2C399&source=youtube&requiressl=yes&xpc=EgVo2aDSNQ%3D%3D&mh=0V&mm=31%2C29&mn=sn-vjoouujvhh-ioqs%2Csn-oguelnze&ms=au%2Crdu&mv=m&mvi=5&pl=38&initcwndbps=937500&bui=AbKP-1Ni01UbacDZ87L8CAdR_x8QyBmnGr83OpG1m0OgThYfgQ-GMLedo-ESeUM-udQT99cZPkwW-rzO&spc=UWF9fwawtNcoD7nG6TEVFaNU3_5_qzlE-BcJ85r-BT91sfW7Fx8UGX5gPqTe&vprv=1&svpuc=1&mime=video%2Fmp4&ns=AUn8rRMTF0wCdnTVGEmprd4Q&rqh=1&gir=yes&clen=7854205&dur=846.600&lmt=1705326879524993&mt=1719049255&fvip=3&keepalive=yes&c=WEB&sefc=1&txp=5432434&n=EYLhTS5WRjIGng&sparams=expire%2Cei%2Cip%2Cid%2Caitags%2Csource%2Crequiressl%2Cxpc%2Cbui%2Cspc%2Cvprv%2Csvpuc%2Cmime%2Cns%2Crqh%2Cgir%2Cclen%2Cdur%2Clmt&sig=AJfQdSswRQIhAOWY7HwUmXOdsYw3dBFMqIkKHpF5VofvqIznCFDlI9zLAiBq7Mb1jkmsfuClugSCTNYH9xqh063uMs5BNQcuJ5QrYQ%3D%3D&lsparams=mh%2Cmm%2Cmn%2Cms%2Cmv%2Cmvi%2Cpl%2Cinitcwndbps&lsig=AHlkHjAwRAIgG3442Lys0RBkVVaOfmp_oqqQRg57SKLGvgkfmnrUE-4CIHgW_7PIQx7iS31EwOEeo2zz_ZuYn1kT6ouE37NoFsqp\n"
     ]
    }
   ],
   "source": [
    "%%bash\n",
    "youtube-dl -f 136 -g  https://www.youtube.com/watch\\?v\\=2xrd8DwBtG0"
   ]
  },
  {
   "cell_type": "markdown",
   "id": "57c6f7d0-332a-4f80-92e8-8889c2b663b3",
   "metadata": {},
   "source": [
    "Get audio only in 140 m4a format- "
   ]
  },
  {
   "cell_type": "code",
   "execution_count": 2,
   "id": "254f2a28-aacf-49d5-bca9-d6868f8813da",
   "metadata": {},
   "outputs": [
    {
     "name": "stdout",
     "output_type": "stream",
     "text": [
      "https://rr5---sn-vjoouujvhh-ioqs.googlevideo.com/videoplayback?expire=1719071252&ei=tJ12ZojwFr602roP1p2p2Ag&ip=2400%3A4050%3Aad40%3A7500%3A942b%3A4751%3Ae044%3A9f96&id=o-AKWVzEnL5i-I814RC1rINE6FFwU1chiPl7H38W7xSjRR&itag=136&aitags=133%2C134%2C135%2C136%2C137%2C160%2C242%2C243%2C244%2C247%2C248%2C278%2C394%2C395%2C396%2C397%2C398%2C399&source=youtube&requiressl=yes&xpc=EgVo2aDSNQ%3D%3D&mh=0V&mm=31%2C29&mn=sn-vjoouujvhh-ioqs%2Csn-oguelnze&ms=au%2Crdu&mv=m&mvi=5&pl=38&initcwndbps=937500&bui=AbKP-1Ni01UbacDZ87L8CAdR_x8QyBmnGr83OpG1m0OgThYfgQ-GMLedo-ESeUM-udQT99cZPkwW-rzO&spc=UWF9fwawtNcoD7nG6TEVFaNU3_5_qzlE-BcJ85r-BT91sfW7Fx8UGX5gPqTe&vprv=1&svpuc=1&mime=video%2Fmp4&ns=AUn8rRMTF0wCdnTVGEmprd4Q&rqh=1&gir=yes&clen=7854205&dur=846.600&lmt=1705326879524993&mt=1719049255&fvip=3&keepalive=yes&c=WEB&sefc=1&txp=5432434&n=EYLhTS5WRjIGng&sparams=expire%2Cei%2Cip%2Cid%2Caitags%2Csource%2Crequiressl%2Cxpc%2Cbui%2Cspc%2Cvprv%2Csvpuc%2Cmime%2Cns%2Crqh%2Cgir%2Cclen%2Cdur%2Clmt&sig=AJfQdSswRQIhAOWY7HwUmXOdsYw3dBFMqIkKHpF5VofvqIznCFDlI9zLAiBq7Mb1jkmsfuClugSCTNYH9xqh063uMs5BNQcuJ5QrYQ%3D%3D&lsparams=mh%2Cmm%2Cmn%2Cms%2Cmv%2Cmvi%2Cpl%2Cinitcwndbps&lsig=AHlkHjAwRAIgG3442Lys0RBkVVaOfmp_oqqQRg57SKLGvgkfmnrUE-4CIHgW_7PIQx7iS31EwOEeo2zz_ZuYn1kT6ouE37NoFsqp\n"
     ]
    }
   ],
   "source": [
    "%%bash\n",
    "youtube-dl -f 136 -g  https://www.youtube.com/watch\\?v\\=2xrd8DwBtG0"
   ]
  },
  {
   "cell_type": "code",
   "execution_count": 23,
   "id": "f6341dc2-5c77-4735-b904-1b2cde3225d3",
   "metadata": {},
   "outputs": [],
   "source": [
    "import av\n",
    "video_path = \"/Users/michaelmcdowell/Movies/m-tv.wmv\""
   ]
  },
  {
   "cell_type": "code",
   "execution_count": 24,
   "id": "0cd3cc47-2b3d-4610-accc-74f4bed6292d",
   "metadata": {},
   "outputs": [
    {
     "data": {
      "text/plain": [
       "<av.InputContainer '/Users/michaelmcdowell/Movies/m-tv.wmv'>"
      ]
     },
     "execution_count": 24,
     "metadata": {},
     "output_type": "execute_result"
    }
   ],
   "source": [
    "container = av.open(video_path)\n",
    "container"
   ]
  },
  {
   "cell_type": "code",
   "execution_count": 32,
   "id": "2c33dbdb-4138-4eb3-a887-f4ddf2a2c04b",
   "metadata": {},
   "outputs": [
    {
     "data": {
      "text/plain": [
       "<av.VideoStream #0 mjpeg, yuvj420p 320x240 at 0x11a5d1cc0>"
      ]
     },
     "execution_count": 32,
     "metadata": {},
     "output_type": "execute_result"
    }
   ],
   "source": [
    "stream = container.streams.video[0]\n",
    "stream"
   ]
  },
  {
   "cell_type": "code",
   "execution_count": 38,
   "id": "1290331e-dc0d-4e3f-916b-6bf68b9a0c37",
   "metadata": {},
   "outputs": [
    {
     "data": {
      "text/plain": [
       "90000.0"
      ]
     },
     "execution_count": 38,
     "metadata": {},
     "output_type": "execute_result"
    }
   ],
   "source": [
    "fps = float(stream.base_rate)\n",
    "fps"
   ]
  },
  {
   "cell_type": "code",
   "execution_count": 31,
   "id": "b805b2e5-dc7b-4076-ae10-b6bbe0f314b8",
   "metadata": {},
   "outputs": [
    {
     "data": {
      "text/plain": [
       "<enumerate at 0x11a68b510>"
      ]
     },
     "execution_count": 31,
     "metadata": {},
     "output_type": "execute_result"
    }
   ],
   "source": [
    "enumerate(container.decode(stream))"
   ]
  },
  {
   "cell_type": "code",
   "execution_count": 18,
   "id": "63515e32-1d65-4492-83ba-7fe3db225ae5",
   "metadata": {},
   "outputs": [
    {
     "ename": "EOFError",
     "evalue": "[Errno 541478725] End of file",
     "output_type": "error",
     "traceback": [
      "\u001b[0;31m---------------------------------------------------------------------------\u001b[0m",
      "\u001b[0;31mEOFError\u001b[0m                                  Traceback (most recent call last)",
      "Cell \u001b[0;32mIn[18], line 1\u001b[0m\n\u001b[0;32m----> 1\u001b[0m \u001b[38;5;28;43;01mfor\u001b[39;49;00m\u001b[43m \u001b[49m\u001b[43mindex\u001b[49m\u001b[43m,\u001b[49m\u001b[43m \u001b[49m\u001b[43mframe\u001b[49m\u001b[43m \u001b[49m\u001b[38;5;129;43;01min\u001b[39;49;00m\u001b[43m \u001b[49m\u001b[38;5;28;43menumerate\u001b[39;49m\u001b[43m(\u001b[49m\u001b[43mcontainer\u001b[49m\u001b[38;5;241;43m.\u001b[39;49m\u001b[43mdecode\u001b[49m\u001b[43m(\u001b[49m\u001b[43mstream\u001b[49m\u001b[43m)\u001b[49m\u001b[43m)\u001b[49m\u001b[43m:\u001b[49m\n\u001b[1;32m      2\u001b[0m \u001b[43m    \u001b[49m\u001b[38;5;28;43;01mif\u001b[39;49;00m\u001b[43m \u001b[49m\u001b[43mindex\u001b[49m\u001b[43m \u001b[49m\u001b[38;5;241;43m%\u001b[39;49m\u001b[43m \u001b[49m\u001b[43mfps\u001b[49m\u001b[43m \u001b[49m\u001b[38;5;241;43m==\u001b[39;49m\u001b[43m \u001b[49m\u001b[38;5;241;43m0\u001b[39;49m\u001b[43m:\u001b[49m\n\u001b[1;32m      3\u001b[0m \u001b[43m        \u001b[49m\u001b[43mframe\u001b[49m\u001b[38;5;241;43m.\u001b[39;49m\u001b[43mto_image\u001b[49m\u001b[43m(\u001b[49m\u001b[43m)\u001b[49m\u001b[38;5;241;43m.\u001b[39;49m\u001b[43msave\u001b[49m\u001b[43m(\u001b[49m\u001b[38;5;124;43mf\u001b[39;49m\u001b[38;5;124;43m'\u001b[39;49m\u001b[38;5;124;43mframe=\u001b[39;49m\u001b[38;5;132;43;01m{\u001b[39;49;00m\u001b[43mindex\u001b[49m\u001b[38;5;132;43;01m}\u001b[39;49;00m\u001b[38;5;124;43m.png\u001b[39;49m\u001b[38;5;124;43m'\u001b[39;49m\u001b[43m)\u001b[49m\n",
      "File \u001b[0;32mav/container/input.pyx:208\u001b[0m, in \u001b[0;36mdecode\u001b[0;34m()\u001b[0m\n",
      "File \u001b[0;32mav/packet.pyx:80\u001b[0m, in \u001b[0;36mav.packet.Packet.decode\u001b[0;34m()\u001b[0m\n",
      "File \u001b[0;32mav/video/stream.pyx:41\u001b[0m, in \u001b[0;36mav.video.stream.VideoStream.decode\u001b[0;34m()\u001b[0m\n",
      "File \u001b[0;32mav/video/stream.pyx:50\u001b[0m, in \u001b[0;36mav.video.stream.VideoStream.decode\u001b[0;34m()\u001b[0m\n",
      "File \u001b[0;32mav/codec/context.pyx:507\u001b[0m, in \u001b[0;36mav.codec.context.CodecContext.decode\u001b[0;34m()\u001b[0m\n",
      "File \u001b[0;32mav/codec/context.pyx:404\u001b[0m, in \u001b[0;36mav.codec.context.CodecContext._send_packet_and_recv\u001b[0;34m()\u001b[0m\n",
      "File \u001b[0;32mav/error.pyx:328\u001b[0m, in \u001b[0;36mav.error.err_check\u001b[0;34m()\u001b[0m\n",
      "\u001b[0;31mEOFError\u001b[0m: [Errno 541478725] End of file"
     ]
    }
   ],
   "source": [
    "for index, frame in enumerate(container.decode(stream)):\n",
    "    if index % fps == 0:\n",
    "        frame.to_image().save(f'frame={index}.png')"
   ]
  },
  {
   "cell_type": "code",
   "execution_count": null,
   "id": "bc29ebab-833f-42d1-a462-6a31cd39b061",
   "metadata": {},
   "outputs": [],
   "source": []
  }
 ],
 "metadata": {
  "kernelspec": {
   "display_name": "Python 3 (ipykernel)",
   "language": "python",
   "name": "python3"
  },
  "language_info": {
   "codemirror_mode": {
    "name": "ipython",
    "version": 3
   },
   "file_extension": ".py",
   "mimetype": "text/x-python",
   "name": "python",
   "nbconvert_exporter": "python",
   "pygments_lexer": "ipython3",
   "version": "3.11.8"
  }
 },
 "nbformat": 4,
 "nbformat_minor": 5
}
